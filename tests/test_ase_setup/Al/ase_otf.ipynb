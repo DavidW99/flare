{
 "cells": [
  {
   "cell_type": "markdown",
   "metadata": {},
   "source": [
    "# On-the-fly training with ASE\n",
    "In this notebook, we will see how to run on-the-fly (OTF) training with ASE module"
   ]
  },
  {
   "cell_type": "code",
   "execution_count": 32,
   "metadata": {},
   "outputs": [
    {
     "name": "stdout",
     "output_type": "stream",
     "text": [
      "The autoreload extension is already loaded. To reload it, use:\n",
      "  %reload_ext autoreload\n"
     ]
    }
   ],
   "source": [
    "flare_path = \"../..\" # the path to flare source code folder\n",
    "\n",
    "import numpy as np\n",
    "import sys\n",
    "sys.path.append(flare_path)\n",
    "\n",
    "%load_ext autoreload\n",
    "%autoreload 2"
   ]
  },
  {
   "cell_type": "markdown",
   "metadata": {},
   "source": [
    "## Build atomic structure\n",
    "Let's use bulk Al as a simple example. First of all, we can use ASE to create a cubic unit cell with lattice constant $a=4.05$. Then we build a 1x1x1 super cell for simplicity (it's basically the same as the unit cell, but we can build super cell of other sizes as well). \n",
    "\n",
    "(For more examples, see [ASE-Atoms object](https://wiki.fysik.dtu.dk/ase/ase/atoms.html?highlight=atoms#module-ase.atoms), [Using the spacegroup subpackage](https://wiki.fysik.dtu.dk/ase/ase/spacegroup/spacegroup.html))"
   ]
  },
  {
   "cell_type": "code",
   "execution_count": 33,
   "metadata": {},
   "outputs": [
    {
     "name": "stdout",
     "output_type": "stream",
     "text": [
      "number of atoms: 4\n"
     ]
    }
   ],
   "source": [
    "from ase import Atoms\n",
    "from ase import units\n",
    "from ase.spacegroup import crystal\n",
    "from ase.build import bulk, make_supercell\n",
    "\n",
    "symbol = 'Al'\n",
    "a = 4.05  # Angstrom lattice spacing\n",
    "unit_cell = crystal(symbol, [(0,0,0)], spacegroup=225,\n",
    "                    cellpar=[a, a, a, 90, 90, 90])\n",
    "multiplier = np.array([[1,0,0],[0,1,0],[0,0,1]])\n",
    "super_cell = make_supercell(unit_cell, multiplier)\n",
    "nat = len(super_cell.positions)\n",
    "print('number of atoms:', nat)"
   ]
  },
  {
   "cell_type": "markdown",
   "metadata": {},
   "source": [
    "## Set up gp calculator\n",
    "Let's import the FLARE module to build a GP force field predictor. \n",
    "- We choose `two_plus_three_body` kernel function, meaning our kernel consists of 2-body and 3-body interactions. `two_plus_three_body_grad` is the gradient function of the kernel, which is used in training hyperparameters.\n",
    "- Hyperparameters are randomly chosen to be: $\\sigma_2=0.2$, $l_2=1$, $\\sigma_3=0,0001$, $l_3=1$, $noise=0.005$\n",
    "- The cutoffs of 2-body and 3-body are all set to be $4.5$\n",
    "- We use 'BFGS' as the algorithm for optimizing hyperparameters\n",
    "- Then we can create a GP model of class `GaussianProcess`"
   ]
  },
  {
   "cell_type": "code",
   "execution_count": 34,
   "metadata": {},
   "outputs": [],
   "source": [
    "from flare import kernels\n",
    "from flare.gp import GaussianProcess\n",
    "\n",
    "kernel = kernels.two_plus_three_body\n",
    "kernel_grad = kernels.two_plus_three_body_grad\n",
    "hyps = np.array([0.2, 1., 0.0001, 1, 0.005])\n",
    "cutoffs = np.array([4.5, 4.5])\n",
    "hyp_labels = ['sig2', 'ls2', 'sig3', 'ls3', 'noise']\n",
    "opt_algorithm = 'BFGS'\n",
    "gp_model = GaussianProcess(kernel, kernel_grad, hyps, cutoffs,\n",
    "        hyp_labels, opt_algorithm, par=True)"
   ]
  },
  {
   "cell_type": "markdown",
   "metadata": {},
   "source": [
    "## Set up mff calculator\n",
    "If we don't want to use the mapped force field method for GP, we can skip this step. If we want, we need to set up parameters for the mapped force field model.\n",
    "- `grid_params` is a dict, specifying how the grids are set for the construction of the mapping. `bounds_2` and `bounds_3` are lower & upper bound of the interpolation domain\n",
    "    - `bounds_2`: lower & upper bound of bond length, the upper bound is usually set to be the 2-body cutoff of GP, and the lower bound is usually set to be 0.05A lower than the minimal interatomic distance\n",
    "    - `bounds_3`: the three dimensions represent *bond_length_1*, *bond_length_2*, *angle_12*. So the lower bound of the two *bond_length*s are set to be the same as 2-body. And the upper bound is set to be the same as the 3-body cutoff of GP. The angle range is always set to be $[0,\\pi]$\n",
    "- `struc_params` is a dict, specifying parameters of the atomic system\n",
    "    - `cube_lat` can be set as any cell matrix that is much larger than the super cell we are running with"
   ]
  },
  {
   "cell_type": "code",
   "execution_count": 35,
   "metadata": {},
   "outputs": [],
   "source": [
    "from flare.mff.mff_new import MappedForceField\n",
    "\n",
    "grid_params = {'bounds_2': np.array([[3.5], [4.5]]),\n",
    "               'bounds_3': np.array([[3.5, 3.5, 0.0], [4.5, 4.5, np.pi]]),\n",
    "               'grid_num_2': 8,\n",
    "               'grid_num_3': [8, 8, 8],\n",
    "               'svd_rank_2': 0,\n",
    "               'svd_rank_3': 0,\n",
    "               'bodies': '2+3',\n",
    "               'load_grid': None,\n",
    "               'load_svd': None,\n",
    "               'update': False}\n",
    "\n",
    "struc_params = {'species': 'Al',\n",
    "                'cube_lat': 100*np.eye(3), #super_cell.cell, \n",
    "                'mass_dict': {'Al': 0.000103642695727*27}}\n",
    "\n",
    "mff_model = MappedForceField(gp_model, grid_params, struc_params)"
   ]
  },
  {
   "cell_type": "markdown",
   "metadata": {},
   "source": [
    "## Set up FLARE calculator\n",
    "With GP and MFF ready, we can set up our ASE calculator using `FLARE_Calculator` module. If we want to use MFF method, we need to specify `use_mapping=True`, otherwise its default value is `False`. Then we set the calculator of the super cell as our FLARE calculator."
   ]
  },
  {
   "cell_type": "code",
   "execution_count": 36,
   "metadata": {},
   "outputs": [],
   "source": [
    "from flare.modules.ase_calculator import FLARE_Calculator\n",
    "calc = FLARE_Calculator(gp_model=gp_model, mff_model=mff_model, use_mapping=True)\n",
    "super_cell.set_calculator(calc)"
   ]
  },
  {
   "cell_type": "markdown",
   "metadata": {},
   "source": [
    "## Set up DFT calculator\n",
    "Since the OTF training requires calling DFT for high uncertainty frames, we need to set up the DFT calculator. Note that we can use any calculator that we like, as long as ASE supports it. For a quick presentation, we use [ASE - EAM calculator](https://wiki.fysik.dtu.dk/ase/ase/calculators/eam.html), and we will give examples below on using others.\n",
    "\n",
    "- Download an EAM potential for Al, here we choose `Al99.eam.alloy`\n",
    "- create an EAM calculator use ASE module"
   ]
  },
  {
   "cell_type": "code",
   "execution_count": 37,
   "metadata": {},
   "outputs": [],
   "source": [
    "from ase.calculators.espresso import Espresso\n",
    "from ase.calculators.eam import EAM\n",
    "\n",
    "dft_calc = EAM(potential='Al99.eam.alloy')"
   ]
  },
  {
   "cell_type": "markdown",
   "metadata": {},
   "source": [
    "\\* **Below is an example of Quantum Espresso**"
   ]
  },
  {
   "cell_type": "code",
   "execution_count": 38,
   "metadata": {},
   "outputs": [],
   "source": [
    "# set up input parameters\n",
    "input_data = {'control':  {'prefix': 'al',\n",
    "                           'pseudo_dir': './',\n",
    "                           'outdir': './out',\n",
    "                           'verbosity': 'high',\n",
    "                           'calculation': 'scf'},\n",
    "              'system':   {'ibrav': 0,\n",
    "                           'ecutwfc': 50,\n",
    "                           'ecutrho': 300,\n",
    "                           'smearing': 'mv',\n",
    "                           'degauss': 0.02,\n",
    "                           'occupations': 'smearing'},\n",
    "              'electrons':{'conv_thr': 1.0e-08,\n",
    "                           #'startingwfc': 'file',\n",
    "                           'electron_maxstep': 200,\n",
    "                           'mixing_beta': 0.4}}\n",
    "\n",
    "dft_input = {'label': 'al',\n",
    "             'pseudopotential': {'Al', 'Al.pbe-n-kjpaw_psl.1.0.0.UPF'},\n",
    "             'kpts': (4, 4, 1),\n",
    "             'input_data': input_data}\n",
    "\n",
    "# set up scf executable command\n",
    "pw_loc = \"/n/home08/xiey/q-e/bin/pw.x\"\n",
    "no_cpus = 1\n",
    "npool = 1\n",
    "pwi_file = dft_input['label'] + '.pwi'\n",
    "pwo_file = dft_input['label'] + '.pwo'\n",
    "os.environ['ASE_ESPRESSO_COMMAND'] = 'srun -n {0} --mpi=pmi2 {1} -npool {2} < {3} > {4}'.format(no_cpus, \n",
    "                    pw_loc, npool, pwi_file, pwo_file)\n",
    "\n",
    "# create ASE calculator\n",
    "dft_calc = Espresso(pseudopotentials=dft_input['pseudopotentials'], label=dft_input['label'], \n",
    "                    tstress=True, tprnfor=True, nosym=True, \n",
    "                    input_data=dft_input['input_data'], kpts=dft_input['kpts']) "
   ]
  },
  {
   "cell_type": "markdown",
   "metadata": {},
   "source": [
    "\\* **Below is an example of LAMMPS**"
   ]
  },
  {
   "cell_type": "code",
   "execution_count": null,
   "metadata": {},
   "outputs": [],
   "source": [
    "# set up input parameters\n",
    "label = 'al'\n",
    "pot_path = './'\n",
    "parameters = {'pair_style': 'eam/alloy', \n",
    "              'pair_coeff': ['* * Al99.eam.alloy Al'], \n",
    "              'mass': ['* 27']}\n",
    "files = [pot_path+'Al99.eam.alloy']\n",
    "\n",
    "# set up executable command\n",
    "os.environ['LAMMPS_COMMAND'] = './lmp_intel_cpu_intelmpi'\n",
    "\n",
    "# create ASE calculator\n",
    "lmp_calc = LAMMPS(label=label, keep_tmp_files=True, tmp_dir='./', parameters=parameters, files=files)"
   ]
  },
  {
   "cell_type": "markdown",
   "metadata": {},
   "source": [
    "## Set up on-the-fly NPT molecular dynamics"
   ]
  },
  {
   "cell_type": "code",
   "execution_count": 39,
   "metadata": {},
   "outputs": [],
   "source": [
    "from ase.md.velocitydistribution import MaxwellBoltzmannDistribution, Stationary, ZeroRotation\n",
    "\n",
    "# intialize velocity\n",
    "MaxwellBoltzmannDistribution(super_cell, 200 * units.kB)\n",
    "Stationary(super_cell)  # zero linear momentum\n",
    "ZeroRotation(super_cell)  # zero angular momentum"
   ]
  },
  {
   "cell_type": "markdown",
   "metadata": {},
   "source": [
    "Other OTF thermo-stat modules:"
   ]
  },
  {
   "cell_type": "code",
   "execution_count": 40,
   "metadata": {},
   "outputs": [],
   "source": [
    "from flare.modules.ase_otf_md import OTF_NPT\n",
    "\n",
    "timestep = 1 # fs\n",
    "temperature = 100\n",
    "externalstress = 0\n",
    "ttime = 25\n",
    "pfactor = 3375\n",
    "\n",
    "test_otf_npt = OTF_NPT(super_cell, timestep, temperature,\n",
    "                       externalstress, ttime, pfactor, mask=None,\n",
    "                       # on-the-fly parameters\n",
    "                       dft_calc=dft_calc,\n",
    "                       std_tolerance_factor=1, max_atoms_added=nat,\n",
    "                       freeze_hyps=0,\n",
    "                       # mff parameters\n",
    "                       use_mapping=super_cell.calc.use_mapping)"
   ]
  },
  {
   "cell_type": "markdown",
   "metadata": {},
   "source": [
    "Set up the `OTFLogger` so that we will get a log file, which records all the information of the on-the-fly training process, including the positions, velocities, forces, uncertainties of each step, and the parameters of GP and MFF. The dump interval is set to be $1$, meaning the trajectory is dumped every step."
   ]
  },
  {
   "cell_type": "code",
   "execution_count": 41,
   "metadata": {},
   "outputs": [],
   "source": [
    "from flare.modules.ase_otf_logger import OTFLogger\n",
    "logfile = 'al.log'\n",
    "test_otf_npt.attach(OTFLogger(test_otf_npt, super_cell, logfile, mode=\"w\"), interval=1)"
   ]
  },
  {
   "cell_type": "markdown",
   "metadata": {},
   "source": [
    "Now we can run for 5 time steps"
   ]
  },
  {
   "cell_type": "code",
   "execution_count": 42,
   "metadata": {},
   "outputs": [
    {
     "name": "stdout",
     "output_type": "stream",
     "text": [
      "step: 0\n",
      "calling dft\n",
      "updating gp\n",
      "step: 1\n",
      "calling dft\n",
      "updating gp\n",
      "step: 2\n",
      "calling dft\n",
      "updating gp\n",
      "step: 3\n",
      "calling dft\n",
      "updating gp\n",
      "step: 4\n",
      "calling dft\n",
      "updating gp\n"
     ]
    }
   ],
   "source": [
    "test_otf_npt.otf_run(5)"
   ]
  },
  {
   "cell_type": "markdown",
   "metadata": {},
   "source": [
    "It looks like we are done. Let's look at the first several lines of our log file and see what's in there."
   ]
  },
  {
   "cell_type": "code",
   "execution_count": 43,
   "metadata": {},
   "outputs": [
    {
     "name": "stdout",
     "output_type": "stream",
     "text": [
      "2019-07-31 15:29:05.374015\n",
      "number of cpu cores: \n",
      "cutoffs: [4.5 4.5]\n",
      "kernel: two_plus_three_body\n",
      "number of parameters: 5\n",
      "hyperparameters: [2.e-01 1.e+00 1.e-04 1.e+00 5.e-03]\n",
      "hyperparameter optimization algorithm: L-BFGS-B\n",
      "uncertainty tolerance: 1\n",
      "periodic cell:\n",
      "[[4.05 0.   0.  ]\n",
      " [0.   4.05 0.  ]\n",
      " [0.   0.   4.05]]\n",
      "\n",
      "--------------------------------------------------\n",
      "-*Frame: 0.0\n",
      "Simulation time: 0.0\n",
      "          Positions           |           DFT Forces           |           Velocities          |           Uncertainties\n",
      " 0.000000  0.000000  0.000000 | -0.000000 -0.000000 -0.000000 |  0.026679 -0.032448  0.010608 |  0.000000  0.000000  0.000000\n",
      " 0.000000  2.025000  2.025000 |  0.000000 -0.000000  0.000000 | -0.000962  0.027003  0.022478 |  0.000000  0.000000  0.000000\n",
      " 2.025000  0.000000  2.025000 |  0.000000  0.000000  0.000000 | -0.032124 -0.019127 -0.018484 |  0.000000  0.000000  0.000000\n"
     ]
    }
   ],
   "source": [
    "f = open(logfile)\n",
    "for l in range(20):\n",
    "    print(f.readline(), end='')"
   ]
  }
 ],
 "metadata": {
  "kernelspec": {
   "display_name": "Python 3",
   "language": "python",
   "name": "python3"
  },
  "language_info": {
   "codemirror_mode": {
    "name": "ipython",
    "version": 3
   },
   "file_extension": ".py",
   "mimetype": "text/x-python",
   "name": "python",
   "nbconvert_exporter": "python",
   "pygments_lexer": "ipython3",
   "version": "3.7.1"
  }
 },
 "nbformat": 4,
 "nbformat_minor": 2
}
